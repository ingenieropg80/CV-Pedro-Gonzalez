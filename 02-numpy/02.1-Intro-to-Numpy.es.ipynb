{
  "cells": [
    {
      "cell_type": "markdown",
      "id": "bdfbcacc",
      "metadata": {
        "id": "bdfbcacc"
      },
      "source": [
        "![Logo de NumPy](https://github.com/4GeeksAcademy/machine-learning-prework/blob/main/02-numpy/assets/numpy_logo.png?raw=true)\n",
        "\n",
        "## Introducción a NumPy\n",
        "\n",
        "`NumPy` es un juego de palabras que significa **Python numérico** (*Numerical Python*). Es una librería de código abierto que se utiliza para llevar a cabo tareas matemáticas con altísima eficiencia. Además, introduce estructuras de datos como los arrays multidimensionales, que se pueden operar entre ellos a alto nivel, sin meterse mucho en el detalle.\n",
        "\n",
        "En concreto, las claves de esta librería son:\n",
        "\n",
        "- **Array multidimensionales**: Esta librería proporciona un objeto llamado `ndarray`, que permite almacenar y manipular grandes conjuntos de datos de forma eficiente. Los arrays pueden tener cualquier número de dimensiones.\n",
        "- **Operaciones Vectorizadas**: NumPy permite realizar operaciones matemáticas en arrays completos sin la necesidad de bucles explícitos en el código, lo que lo hace muy rápido y eficiente.\n",
        "- **Funciones matemáticas**: NumPy proporciona una amplia gama de funciones matemáticas para trabajar con arrays, incluyendo funciones trigonométricas, estadísticas, álgebra lineal, entre otras.\n",
        "- **Eficiencia**: Es mucho más rápido que la misma funcionalidad implementada directamente sobre Python nativo. Además, es muy flexible en términos de acceso y manipulación de elementos individuales o subconjuntos de arrays.\n",
        "\n",
        "NumPy es una biblioteca fundamental para el Machine Learning y la ciencia de los datos en Python. Proporciona una amplia gama de herramientas y funciones para trabajar eficientemente con datos numéricos en forma de arrays y matrices."
      ]
    },
    {
      "cell_type": "markdown",
      "id": "dc410026",
      "metadata": {
        "id": "dc410026"
      },
      "source": [
        "### Arrays\n",
        "\n",
        "Un **array** de NumPy es una estructura de datos que permite almacenar una colección de elementos, generalmente números, en una o más dimensiones.\n",
        "\n",
        "#### Array unidimensional\n",
        "\n",
        "Un array unidimensional (1D) de NumPy es una estructura de datos que contiene una secuencia de elementos en una única dimensión. Es similar a una lista en Python, pero con las ventajas de rendimiento y funcionalidad que ofrece NumPy.\n",
        "\n",
        "![Array de una dimensión](https://github.com/4GeeksAcademy/machine-learning-prework/blob/main/02-numpy/assets/1D.png?raw=true \"1D\")\n",
        "\n",
        "Un array 1D puede ser creado usando la función `array` de la librería con una lista de elementos como argumento. Por ejemplo:"
      ]
    },
    {
      "cell_type": "code",
      "execution_count": null,
      "id": "d8a0686b",
      "metadata": {
        "id": "d8a0686b",
        "outputId": "0d2cec4f-0f74-475d-87cc-d64557c46782"
      },
      "outputs": [
        {
          "data": {
            "text/plain": [
              "array([1, 2, 3, 4, 5])"
            ]
          },
          "execution_count": 1,
          "metadata": {},
          "output_type": "execute_result"
        }
      ],
      "source": [
        "import numpy as np\n",
        "\n",
        "array = np.array([1, 2, 3, 4, 5])\n",
        "array"
      ]
    },
    {
      "cell_type": "markdown",
      "id": "e090f7a0",
      "metadata": {
        "id": "e090f7a0"
      },
      "source": [
        "Esto creará un array 1D con los elementos 1, 2, 3, 4 y 5. Los elementos del array deben ser del mismo tipo de datos. Si los elementos son de diferentes tipos, NumPy intentará convertirlos al mismo tipo si es posible.\n",
        "\n",
        "En un array 1D, podemos acceder a los elementos usando **índices** (*indexes*), modificarlos y realizar operaciones matemáticas en el array completo de forma eficiente. A continuación se muestran algunas operaciones que se pueden realizar utilizando el array anterior:"
      ]
    },
    {
      "cell_type": "code",
      "execution_count": null,
      "id": "a56cb1b0",
      "metadata": {
        "id": "a56cb1b0",
        "outputId": "1aea2e91-b988-4f0e-a5f5-69c55434aac5"
      },
      "outputs": [
        {
          "name": "stdout",
          "output_type": "stream",
          "text": [
            "3\n",
            "[1 7 3 4 5]\n",
            "[11 17 13 14 15]\n",
            "70\n"
          ]
        }
      ],
      "source": [
        "# Acceder al tercer elemento\n",
        "print(array[2])\n",
        "\n",
        "# Cambiar el valor del segundo elemento\n",
        "array[1] = 7\n",
        "print(array)\n",
        "\n",
        "# Sumar 10 a todos los elementos\n",
        "array += 10\n",
        "print(array)\n",
        "\n",
        "# Calcular la suma de los elementos\n",
        "sum_all = np.sum(array)\n",
        "print(sum_all)"
      ]
    },
    {
      "cell_type": "markdown",
      "id": "322771b1",
      "metadata": {
        "id": "322771b1"
      },
      "source": [
        "#### Array N-dimensional\n",
        "\n",
        "Un array multidimensional o n-dimensional en NumPy es una estructura de datos que organiza elementos en múltiples dimensiones (ejes). Estos arrays permiten representar estructuras de datos más complejas, como matrices (array 2D, 2 ejes), tensores (array 3D, 3 ejes) y estructuras de mayor dimensión.\n",
        "\n",
        "![Arrays de diferentes dimensiones](https://github.com/4GeeksAcademy/machine-learning-prework/blob/main/02-numpy/assets/3D.png?raw=true \"3D\")\n",
        "\n",
        "Un array N-dimensional puede ser creado también usando la función `array` de la librería. Por ejemplo, si queremos crear un array 2D:"
      ]
    },
    {
      "cell_type": "code",
      "execution_count": null,
      "id": "2033ba3c",
      "metadata": {
        "id": "2033ba3c",
        "outputId": "fa61400e-1bc6-4bdf-e244-32285670e1c5"
      },
      "outputs": [
        {
          "data": {
            "text/plain": [
              "array([[1, 2, 3],\n",
              "       [4, 5, 6],\n",
              "       [7, 8, 9]])"
            ]
          },
          "execution_count": 3,
          "metadata": {},
          "output_type": "execute_result"
        }
      ],
      "source": [
        "array_2d = np.array([[1, 2, 3], [4, 5, 6], [7, 8, 9]])\n",
        "array_2d"
      ]
    },
    {
      "cell_type": "markdown",
      "id": "d3dac6c2",
      "metadata": {
        "id": "d3dac6c2"
      },
      "source": [
        "Si ahora quisiéramos crear un array 3D, tendríamos que pensar en él como una lista de matrices:"
      ]
    },
    {
      "cell_type": "code",
      "execution_count": null,
      "id": "bc914841",
      "metadata": {
        "id": "bc914841",
        "outputId": "74a7117b-ccef-4b9b-817b-6e1dfc615d9d"
      },
      "outputs": [
        {
          "data": {
            "text/plain": [
              "array([[[1, 2],\n",
              "        [3, 4]],\n",
              "\n",
              "       [[5, 6],\n",
              "        [7, 8]]])"
            ]
          },
          "execution_count": 4,
          "metadata": {},
          "output_type": "execute_result"
        }
      ],
      "source": [
        "array_3d = np.array([[[1, 2], [3, 4]], [[5, 6], [7, 8]]])\n",
        "array_3d"
      ]
    },
    {
      "cell_type": "markdown",
      "id": "da7bcb64",
      "metadata": {
        "id": "da7bcb64"
      },
      "source": [
        "Al igual que sucedía con los arrays 1D, los elementos en un array multidimensional son accesibles mediante índices, se pueden realizar operaciones con ellos, etcétera.\n",
        "\n",
        "A medida que agregamos más dimensiones, el principio básico sigue siendo el mismo: cada dimensión adicional puede considerarse como un nivel adicional de anidamiento. Sin embargo, a nivel práctico, trabajar con arrays de más de 3 o 4 dimensiones puede volverse más complejo y menos intuitivo.\n",
        "\n",
        "Los arrays n-dimensionales en NumPy permiten una gran flexibilidad y potencia para representar y manipular datos en formas más complejas, especialmente útiles en campos como la ciencia de los datos, procesamiento de imágenes y aprendizaje profundo."
      ]
    },
    {
      "cell_type": "markdown",
      "id": "d699ac98",
      "metadata": {
        "id": "d699ac98"
      },
      "source": [
        "### Funciones\n",
        "\n",
        "NumPy proporciona una gran cantidad de funciones predefinidas y que se pueden aplicar directamente sobre las estructuras de datos vistas anteriormente o las propias de Python (listas, matrices, etcétera). Algunas de las más utilizadas en el análisis de datos son:"
      ]
    },
    {
      "cell_type": "code",
      "execution_count": null,
      "id": "e7680306",
      "metadata": {
        "id": "e7680306",
        "outputId": "006c2a4f-05fc-4e0a-a0ae-04c9ff238c30"
      },
      "outputs": [
        {
          "name": "stdout",
          "output_type": "stream",
          "text": [
            "Suma: [ 6  7  8  9 10]\n",
            "Producto: [ 3  6  9 12 15]\n",
            "Logaritmo natural: [0.         0.69314718 1.09861229 1.38629436 1.60943791]\n",
            "Exponencial: [  2.71828183   7.3890561   20.08553692  54.59815003 148.4131591 ]\n",
            "Media: 3.0\n",
            "Mediana: 3.0\n",
            "Desviación estándar: 1.4142135623730951\n",
            "Varianza: 2.0\n",
            "Máximo valor: 5\n",
            "Índice del máximo valor: 4\n",
            "Mínimo valor: 1\n",
            "Índice del mínimo valor: 0\n",
            "Suma de todos los elementos: 15\n",
            "Redondeo: [1. 2. 4. 5.]\n",
            "Entero menor (floor): [1. 2. 3. 4.]\n",
            "Entero mayor (ceil): [2. 3. 4. 5.]\n"
          ]
        }
      ],
      "source": [
        "import numpy as np\n",
        "\n",
        "# Crear un array para el ejemplo\n",
        "arr = np.array([1, 2, 3, 4, 5])\n",
        "\n",
        "# Operaciones Aritméticas\n",
        "print(\"Suma:\", np.add(arr, 5))\n",
        "print(\"Producto:\", np.multiply(arr, 3))\n",
        "\n",
        "# Logarítmicas y Exponenciales\n",
        "print(\"Logaritmo natural:\", np.log(arr))\n",
        "print(\"Exponencial:\", np.exp(arr))\n",
        "\n",
        "# Funciones Estadísticas\n",
        "print(\"Media:\", np.mean(arr))\n",
        "print(\"Mediana:\", np.median(arr))\n",
        "print(\"Desviación estándar:\", np.std(arr))\n",
        "print(\"Varianza:\", np.var(arr))\n",
        "print(\"Máximo valor:\", np.max(arr))\n",
        "print(\"Índice del máximo valor:\", np.argmax(arr))\n",
        "print(\"Mínimo valor:\", np.min(arr))\n",
        "print(\"Índice del mínimo valor:\", np.argmin(arr))\n",
        "print(\"Suma de todos los elementos:\", np.sum(arr))\n",
        "\n",
        "# Funciones de Redondeo\n",
        "arr_decimal = np.array([1.23, 2.47, 3.56, 4.89])\n",
        "print(\"Redondeo:\", np.around(arr_decimal))\n",
        "print(\"Entero menor (floor):\", np.floor(arr_decimal))\n",
        "print(\"Entero mayor (ceil):\", np.ceil(arr_decimal))"
      ]
    },
    {
      "cell_type": "markdown",
      "id": "51b5cda3",
      "metadata": {
        "id": "51b5cda3"
      },
      "source": [
        "## Ejercicios: Haz clic en \"open in colab\" para realizarlos\n",
        "\n",
        "> Solución: https://github.com/4GeeksAcademy/machine-learning-prework/blob/main/02-numpy/02.1-Intro-to-Numpy_solutions.ipynb\n",
        "\n",
        "### Creación de arrays"
      ]
    },
    {
      "cell_type": "markdown",
      "id": "e3c20b3d",
      "metadata": {
        "id": "e3c20b3d"
      },
      "source": [
        "#### Ejercicio 01:  Crea un **vector nulo** (*null vector*) que tenga 10 elementos (★☆☆)\n",
        "\n",
        "Un vector nulo es un array de una dimensión compuesto por ceros (`0`).\n",
        "\n",
        "> NOTA: Revisa la función `np.zeros` (https://numpy.org/doc/stable/reference/generated/numpy.zeros.html)"
      ]
    },
    {
      "cell_type": "code",
      "execution_count": 1,
      "id": "8a758bcf",
      "metadata": {
        "id": "8a758bcf",
        "outputId": "3029b9a6-c6d7-4cfe-e546-264a48dfb504",
        "colab": {
          "base_uri": "https://localhost:8080/"
        }
      },
      "outputs": [
        {
          "output_type": "execute_result",
          "data": {
            "text/plain": [
              "array([0., 0., 0., 0., 0., 0., 0., 0., 0., 0.])"
            ]
          },
          "metadata": {},
          "execution_count": 1
        }
      ],
      "source": [
        "import numpy as np\n",
        "np.zeros(10)"
      ]
    },
    {
      "cell_type": "markdown",
      "id": "6cbe7954",
      "metadata": {
        "id": "6cbe7954"
      },
      "source": [
        "#### Ejercicio 02: Crea un vector de unos que tenga 10 elementos (★☆☆)\n",
        "\n",
        "> NOTA: Revisa la función `np.ones` (https://numpy.org/doc/stable/reference/generated/numpy.ones.html)"
      ]
    },
    {
      "cell_type": "code",
      "execution_count": 5,
      "id": "86477874",
      "metadata": {
        "id": "86477874",
        "outputId": "39f2d44f-c279-4102-80bc-ca7c50843496",
        "colab": {
          "base_uri": "https://localhost:8080/"
        }
      },
      "outputs": [
        {
          "output_type": "execute_result",
          "data": {
            "text/plain": [
              "array([ 1,  2,  3,  4,  5,  6,  7,  8,  9, 10])"
            ]
          },
          "metadata": {},
          "execution_count": 5
        }
      ],
      "source": [
        "np.array([1,2,3,4,5,6,7,8,9,10])"
      ]
    },
    {
      "cell_type": "markdown",
      "id": "0a708990",
      "metadata": {
        "id": "0a708990"
      },
      "source": [
        "#### Ejercicio 03: Investiga la función `linspace` de NumPy y crea un array que contenga 10 elementos (★☆☆)\n",
        "\n",
        "> NOTA: Revisa la función `np.linspace` (https://numpy.org/doc/stable/reference/generated/numpy.linspace.html)"
      ]
    },
    {
      "cell_type": "code",
      "execution_count": 6,
      "id": "477e01f4",
      "metadata": {
        "id": "477e01f4",
        "outputId": "bd1749a1-e052-4a3c-a736-75a7fa002cd3",
        "colab": {
          "base_uri": "https://localhost:8080/"
        }
      },
      "outputs": [
        {
          "output_type": "execute_result",
          "data": {
            "text/plain": [
              "array([ 1.,  2.,  3.,  4.,  5.,  6.,  7.,  8.,  9., 10.])"
            ]
          },
          "metadata": {},
          "execution_count": 6
        }
      ],
      "source": [
        "np.linspace(1,10,10)"
      ]
    },
    {
      "cell_type": "markdown",
      "id": "9794fe71",
      "metadata": {
        "id": "9794fe71"
      },
      "source": [
        "#### Ejercicio 04: Busca varias formas de generar un array con números aleatorios y crea un array 1D y dos arrays 2D (★★☆)\n",
        "\n",
        "> NOTA: Revisa las funciones `np.random.rand` (https://numpy.org/doc/stable/reference/random/generated/numpy.random.rand.html), `np.random.randint` (https://numpy.org/doc/stable/reference/random/generated/numpy.random.randint.html) y `np.random.randn` (https://numpy.org/doc/stable/reference/random/generated/numpy.random.randn.html)"
      ]
    },
    {
      "cell_type": "code",
      "execution_count": 24,
      "id": "3d9a48a7",
      "metadata": {
        "id": "3d9a48a7"
      },
      "outputs": [],
      "source": [
        "x = np.random.rand(5, 6)\n",
        "y = np.random.randint(5,6,2)\n",
        "z = np.random.randn(2,3)"
      ]
    },
    {
      "cell_type": "markdown",
      "id": "78a37e5c",
      "metadata": {
        "id": "78a37e5c"
      },
      "source": [
        "#### Ejercicio 05: Crea una matriz (array 2D) identidad de 5x5 (★☆☆)\n",
        "\n",
        "\n",
        "> NOTA: Revisa la función `np.eye`(https://numpy.org/devdocs/reference/generated/numpy.eye.html)"
      ]
    },
    {
      "cell_type": "code",
      "execution_count": 32,
      "id": "a6751106",
      "metadata": {
        "id": "a6751106",
        "outputId": "8d7a64dc-20de-430c-fb05-fa3c7f0f3e2e",
        "colab": {
          "base_uri": "https://localhost:8080/"
        }
      },
      "outputs": [
        {
          "output_type": "stream",
          "name": "stdout",
          "text": [
            "[[1. 0. 0. 0. 0.]\n",
            " [0. 1. 0. 0. 0.]\n",
            " [0. 0. 1. 0. 0.]\n",
            " [0. 0. 0. 1. 0.]\n",
            " [0. 0. 0. 0. 1.]]\n"
          ]
        }
      ],
      "source": [
        "matriz_identidad = np.eye(5)\n",
        "print(matriz_identidad)"
      ]
    },
    {
      "cell_type": "markdown",
      "id": "08bb63e6",
      "metadata": {
        "id": "08bb63e6"
      },
      "source": [
        "#### Ejercicio 06: Crea una matriz con números aleatorios de 3x2 y calcula el valor mínimo y máximo (★☆☆)\n",
        "\n",
        "> NOTA: Revisa la función `np.min` (https://numpy.org/devdocs/reference/generated/numpy.min.html) y `np.max` (https://numpy.org/devdocs/reference/generated/numpy.max.html)"
      ]
    },
    {
      "cell_type": "code",
      "execution_count": 43,
      "id": "3214cca1",
      "metadata": {
        "id": "3214cca1",
        "outputId": "ea517d61-e3db-499a-8b24-93793d8fbb96",
        "colab": {
          "base_uri": "https://localhost:8080/"
        }
      },
      "outputs": [
        {
          "output_type": "stream",
          "name": "stdout",
          "text": [
            "el valor minimo es:  0.02691771994370673\n",
            "el valor maximo es:  0.8700568917439753\n"
          ]
        }
      ],
      "source": [
        "matriz = np.random.rand(3, 2)\n",
        "valor_minimo = matriz.min()\n",
        "valor_maximo = matriz.max()\n",
        "\n",
        "print (\"el valor minimo es: \", valor_minimo)\n",
        "print (\"el valor maximo es: \", valor_maximo)"
      ]
    },
    {
      "cell_type": "markdown",
      "id": "57c6c275",
      "metadata": {
        "id": "57c6c275"
      },
      "source": [
        "#### Ejercicio 07: Crea un vector con números aleatorios de 30 elementos y calcula la media (★☆☆)\n",
        "\n",
        "> NOTA: Revisa la función `np.mean` (https://numpy.org/doc/stable/reference/generated/numpy.mean.html)"
      ]
    },
    {
      "cell_type": "code",
      "execution_count": 44,
      "id": "cc960ba5",
      "metadata": {
        "id": "cc960ba5",
        "outputId": "bc53396d-438c-4f73-9218-6973df07edd7",
        "colab": {
          "base_uri": "https://localhost:8080/"
        }
      },
      "outputs": [
        {
          "output_type": "stream",
          "name": "stdout",
          "text": [
            "Media del aleatorio: 0.5344152370458197\n"
          ]
        }
      ],
      "source": [
        "aleatorio = np.random.rand(30)\n",
        "media = aleatorio.mean()\n",
        "\n",
        "print(\"Media del aleatorio:\", media)\n"
      ]
    },
    {
      "cell_type": "markdown",
      "id": "2c801667",
      "metadata": {
        "id": "2c801667"
      },
      "source": [
        "#### Ejercicio 08: Convierte la lista `[1, 2, 3]` y la tupla `(1, 2, 3)` en arrays (★☆☆)"
      ]
    },
    {
      "cell_type": "code",
      "execution_count": 49,
      "id": "3f36c71c",
      "metadata": {
        "id": "3f36c71c",
        "outputId": "2dcc13e2-e139-4d56-c4da-cbfff02315ba",
        "colab": {
          "base_uri": "https://localhost:8080/"
        }
      },
      "outputs": [
        {
          "output_type": "stream",
          "name": "stdout",
          "text": [
            "Array desde lista: [1 2 3]\n",
            "Array desde tupla: [1 2 3]\n"
          ]
        }
      ],
      "source": [
        "lista = [1, 2, 3]\n",
        "tupla = (1, 2, 3)\n",
        "\n",
        "array_desde_lista = np.array(lista)\n",
        "array_desde_tupla = np.array(tupla)\n",
        "\n",
        "print(\"Array desde lista:\", array_desde_lista)\n",
        "print(\"Array desde tupla:\", array_desde_tupla)\n",
        "\n"
      ]
    },
    {
      "cell_type": "markdown",
      "id": "962bb9fc",
      "metadata": {
        "id": "962bb9fc"
      },
      "source": [
        "### Operaciones entre arrays"
      ]
    },
    {
      "cell_type": "markdown",
      "id": "48d48f01",
      "metadata": {
        "id": "48d48f01"
      },
      "source": [
        "#### Ejercicio 09: Invierte el vector del ejercicio anterior (★☆☆)\n",
        "\n",
        "> NOTA: Revisa la función `np.flip` (https://numpy.org/doc/stable/reference/generated/numpy.flip.html)"
      ]
    },
    {
      "cell_type": "code",
      "execution_count": 53,
      "id": "d3e13052",
      "metadata": {
        "id": "d3e13052",
        "outputId": "353bb0d4-56d6-444f-d654-417936b03a6f",
        "colab": {
          "base_uri": "https://localhost:8080/"
        }
      },
      "outputs": [
        {
          "output_type": "stream",
          "name": "stdout",
          "text": [
            "Vector original: [1 2 3]\n",
            "Vector invertido: [3 2 1]\n"
          ]
        }
      ],
      "source": [
        "vector = np.array([1, 2, 3])\n",
        "vector_invertido = np.flip(vector)\n",
        "\n",
        "print(\"Vector original:\", vector)\n",
        "print(\"Vector invertido:\", vector_invertido)"
      ]
    },
    {
      "cell_type": "markdown",
      "id": "233addce",
      "metadata": {
        "id": "233addce"
      },
      "source": [
        "#### Ejercicio 10: Cambia el tamaño de un array aleatorio de dimensiones 5x12 en 12x5 (★☆☆)\n",
        "\n",
        "> NOTA: Revisa la función `np.reshape` (https://numpy.org/doc/stable/reference/generated/numpy.reshape.html)"
      ]
    },
    {
      "cell_type": "code",
      "execution_count": 63,
      "id": "bfaed09f",
      "metadata": {
        "id": "bfaed09f",
        "outputId": "8c56c9dd-bcf0-4620-ffb1-fd5fe88834f9",
        "colab": {
          "base_uri": "https://localhost:8080/"
        }
      },
      "outputs": [
        {
          "output_type": "stream",
          "name": "stdout",
          "text": [
            "[[0.48950153 0.10858531 0.65650381 0.64440727 0.14107535]\n",
            " [0.4847423  0.62446842 0.41578649 0.71713386 0.36366202]\n",
            " [0.36680448 0.7566291  0.39251671 0.92744204 0.43703417]\n",
            " [0.45736567 0.77778142 0.10496511 0.94294924 0.9047975 ]\n",
            " [0.47769474 0.34342479 0.85119151 0.05073596 0.66495667]\n",
            " [0.99227944 0.3450061  0.52014196 0.55577242 0.28511107]\n",
            " [0.72179113 0.15228503 0.14171132 0.37035268 0.96443156]\n",
            " [0.15747141 0.4528419  0.74276248 0.91788379 0.8180969 ]\n",
            " [0.83757505 0.60796    0.69057896 0.21186191 0.64813735]\n",
            " [0.07229299 0.19434001 0.40164851 0.45838857 0.44271018]\n",
            " [0.99626392 0.20917637 0.24783035 0.19928439 0.541065  ]\n",
            " [0.56866205 0.05317807 0.02633111 0.51633339 0.76737511]]\n"
          ]
        }
      ],
      "source": [
        "array = np.random.rand(5, 12)\n",
        "size = array.reshape(12, 5)\n",
        "\n",
        "print (size)"
      ]
    },
    {
      "cell_type": "markdown",
      "id": "645e5381",
      "metadata": {
        "id": "645e5381"
      },
      "source": [
        "#### Ejercicio 11: Convierte la lista `[1, 2, 0, 0, 4, 0]` en un array y obtén el índice de los elementos que no son cero (★★☆)\n",
        "\n",
        "> NOTA: Revisa la función `np.where` (https://numpy.org/devdocs/reference/generated/numpy.where.html)"
      ]
    },
    {
      "cell_type": "code",
      "execution_count": 65,
      "id": "b2652fee",
      "metadata": {
        "id": "b2652fee",
        "outputId": "420e5b91-a888-49f1-b5de-b59a73c24f79",
        "colab": {
          "base_uri": "https://localhost:8080/"
        }
      },
      "outputs": [
        {
          "output_type": "stream",
          "name": "stdout",
          "text": [
            "[1 2 0 0 4 0]\n"
          ]
        }
      ],
      "source": [
        "lista = [1, 2, 0, 0, 4, 0]\n",
        "indice_ceros = np.array(lista)\n",
        "\n",
        "print (indice_ceros)"
      ]
    },
    {
      "cell_type": "markdown",
      "id": "e7948dbb",
      "metadata": {
        "id": "e7948dbb"
      },
      "source": [
        "#### Ejercicio 12: Convierte la lista `[0, 5, -1, 3, 15]` en un array, multiplica sus valores por `-2` y obtén los elementos pares (★★☆)"
      ]
    },
    {
      "cell_type": "code",
      "execution_count": null,
      "metadata": {
        "id": "luT1Jh47XqbL"
      },
      "outputs": [],
      "source": [
        "lista = [2,5,3,5,4]\n",
        "array = np.array(lista)\n",
        "array = array * -2\n",
        "array[t % 2 == 0]"
      ],
      "id": "luT1Jh47XqbL"
    },
    {
      "cell_type": "markdown",
      "id": "a90d6f3e",
      "metadata": {
        "id": "a90d6f3e"
      },
      "source": [
        "#### Ejercicio 13: Crea un vector aleatorio de 10 elementos y ordénalo de menor a mayor (★★☆)\n",
        "\n",
        "> NOTA: Revisa la función `np.sort` (https://numpy.org/doc/stable/reference/generated/numpy.sort.html)"
      ]
    },
    {
      "cell_type": "code",
      "execution_count": 25,
      "id": "bc373a83",
      "metadata": {
        "id": "bc373a83",
        "outputId": "e514187a-e3c6-4b2a-a672-50b98327d380",
        "colab": {
          "base_uri": "https://localhost:8080/"
        }
      },
      "outputs": [
        {
          "output_type": "stream",
          "name": "stdout",
          "text": [
            "[9 8 9 2 9 1 2 0 5 2]\n",
            "[0 1 2 2 2 5 8 9 9 9]\n"
          ]
        }
      ],
      "source": [
        "v = np.random.randint(10, size=10)\n",
        "print(v)\n",
        "print(np.sort(v))"
      ]
    },
    {
      "cell_type": "markdown",
      "id": "5e9b6115",
      "metadata": {
        "id": "5e9b6115"
      },
      "source": [
        "#### Ejercicio 14: Genera dos vectores aleatorios de 8 elementos y aplica las operaciones de suma, resta y multiplicación entre ellos (★★☆)\n",
        "\n",
        "> NOTA: Revisa las funciones matemáticas: https://numpy.org/doc/stable/reference/routines.math.html"
      ]
    },
    {
      "cell_type": "code",
      "execution_count": 28,
      "id": "cc77e421",
      "metadata": {
        "id": "cc77e421",
        "outputId": "521be413-ca4d-4d33-9fcf-8e95736da1e9",
        "colab": {
          "base_uri": "https://localhost:8080/"
        }
      },
      "outputs": [
        {
          "output_type": "stream",
          "name": "stdout",
          "text": [
            "[ 77 122  23  95 131 106 126  64]\n",
            "[ 59  56  -7   9 -47 -64  52  60]\n",
            "[ 612 2937  120 2236 3738 1785 3293  124]\n"
          ]
        }
      ],
      "source": [
        "l = np.random.randint(100, size=8)\n",
        "n = np.random.randint(100, size=8)\n",
        "\n",
        "print(l+n)\n",
        "print(l-n)\n",
        "print(l*n)"
      ]
    },
    {
      "cell_type": "markdown",
      "id": "c8e8daa0",
      "metadata": {
        "id": "c8e8daa0"
      },
      "source": [
        "#### Ejercicio 15: Convierte la lista `[1, 2, 3, 4, 5, 6, 7, 8, 9, 10, 11, 12]` en un array y transfórmalo en una matriz con filas de 3 columnas (★★★)"
      ]
    },
    {
      "cell_type": "code",
      "execution_count": 29,
      "metadata": {
        "id": "4s6BhiwXXqbR",
        "outputId": "8d63d06d-14c2-4563-b386-821b017f33b0",
        "colab": {
          "base_uri": "https://localhost:8080/"
        }
      },
      "outputs": [
        {
          "output_type": "stream",
          "name": "stdout",
          "text": [
            "[[ 1  2  3]\n",
            " [ 4  5  6]\n",
            " [ 7  8  9]\n",
            " [10 11 12]]\n"
          ]
        }
      ],
      "source": [
        "lista = [1,2,3,4,5,6,7,8,9,10,11,12]\n",
        "m = np.array(lista).reshape(4,3)\n",
        "print(m)"
      ],
      "id": "4s6BhiwXXqbR"
    }
  ],
  "metadata": {
    "kernelspec": {
      "display_name": "Python 3",
      "language": "python",
      "name": "python3"
    },
    "language_info": {
      "codemirror_mode": {
        "name": "ipython",
        "version": 3
      },
      "file_extension": ".py",
      "mimetype": "text/x-python",
      "name": "python",
      "nbconvert_exporter": "python",
      "pygments_lexer": "ipython3",
      "version": "3.11.4"
    },
    "colab": {
      "provenance": []
    }
  },
  "nbformat": 4,
  "nbformat_minor": 5
}