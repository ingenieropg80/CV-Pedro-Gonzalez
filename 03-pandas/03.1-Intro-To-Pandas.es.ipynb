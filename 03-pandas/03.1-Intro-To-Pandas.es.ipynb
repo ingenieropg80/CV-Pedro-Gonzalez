{
  "cells": [
    {
      "cell_type": "markdown",
      "id": "bdfbcacc",
      "metadata": {
        "id": "bdfbcacc"
      },
      "source": [
        "![Pandas logo](https://github.com/4GeeksAcademy/machine-learning-prework/blob/main/03-pandas/assets/pandas_logo.png?raw=true)\n",
        "\n",
        "## Introducción a Pandas en Python\n",
        "\n",
        "**Pandas** es una librería de código abierto que proporciona estructuras de datos y está diseñado para manejar y analizar datos tabulares en Python. Pandas se basa en NumPy, lo que le permite integrarse bien en el ecosistema de la ciencia de los datos junto a otras librerías como `Scikit-learn` y `Matplotlib`.\n",
        "\n",
        "En concreto, los puntos clave de esta librería son:\n",
        "\n",
        "- **Estructuras de datos**: Esta librería proporciona dos estructuras para trabajar con datos. Estos son las `Series` que son arrays unidimensionales etiquetados, similares a un vector, lista o secuencia y que es capaz de contener cualquier tipo de datos, y los `DataFrames`, que es una estructura bidimensional etiquetada con columnas que pueden ser de diferentes tipos, similar a una hoja de cálculo o a una tabla SQL.\n",
        "- **Manipulación de datos**: Pandas permite llevar a cabo un exhaustivo análisis de datos a través de funciones que pueden aplicarse directamente sobre sus estructuras de datos. Estas operaciones incluyen control de datos faltantes, filtrado de datos, fusión, combinación y unión de datos de diferentes fuentes...\n",
        "- **Eficiencia**: Todas las operaciones y/o funciones que se apliquen sobre las estructuras de datos son vectorizadas para mejorar el rendimiento en comparación con los bucles tradicionales e iteradores de Python.\n",
        "\n",
        "Pandas es una herramienta fundamental para cualquier desarrollador que trabaje con datos en Python, ya que proporciona una amplia variedad de herramientas para la exploración, limpieza y transformación de datos, haciendo que el proceso de análisis sea más eficiente y efectivo."
      ]
    },
    {
      "cell_type": "markdown",
      "id": "40631cd6",
      "metadata": {
        "id": "40631cd6"
      },
      "source": [
        "### Estructuras de datos\n",
        "\n",
        "Pandas proporciona dos estructuras de datos principales: `Series` y `DataFrames`.\n",
        "\n",
        "#### Series\n",
        "\n",
        "Una **serie** en Pandas es una estructura de datos unidimensional etiquetada. Es similar a un array de 1D de NumPy, pero tiene un índice que permite el acceso a los valores por etiqueta. Una serie puede contener cualquier tipo de datos: enteros, cadenas, objetos de Python...\n",
        "\n",
        "![Ejemplo de Serie](https://github.com/4GeeksAcademy/machine-learning-prework/blob/main/03-pandas/assets/series.PNG?raw=true)\n",
        "\n",
        "Una serie en Pandas tiene dos partes diferenciadas:\n",
        "\n",
        "- **Índice** (*index*): Un array de etiquetas asociado a los datos.\n",
        "- **Valor** (*value*): Un array de datos.\n",
        "\n",
        "Una serie puede ser creada utilizando la clase `Series` de la librería con una lista de elementos como argumento. Por ejemplo:"
      ]
    },
    {
      "cell_type": "code",
      "execution_count": null,
      "id": "21653d4f",
      "metadata": {
        "id": "21653d4f",
        "outputId": "124fc43c-c320-4e36-cf7a-d378ff2ee64e"
      },
      "outputs": [
        {
          "data": {
            "text/plain": [
              "0    1\n",
              "1    2\n",
              "2    3\n",
              "3    4\n",
              "4    5\n",
              "dtype: int64"
            ]
          },
          "execution_count": 1,
          "metadata": {},
          "output_type": "execute_result"
        }
      ],
      "source": [
        "import pandas as pd\n",
        "\n",
        "serie = pd.Series([1, 2, 3, 4, 5])\n",
        "serie"
      ]
    },
    {
      "cell_type": "markdown",
      "id": "d1c2dda1",
      "metadata": {
        "id": "d1c2dda1"
      },
      "source": [
        "Esto creará una serie con los elementos 1, 2, 3, 4 y 5. Además, al no haber incluido información sobre los índices, se genera uno automático empezando en 0. Si quisiéramos crear una nueva serie con un índice concreto se programaría como sigue:"
      ]
    },
    {
      "cell_type": "code",
      "execution_count": null,
      "id": "2d4c091d",
      "metadata": {
        "id": "2d4c091d",
        "outputId": "2b5db9fd-d27b-4caf-da86-9abf4bc58c03"
      },
      "outputs": [
        {
          "data": {
            "text/plain": [
              "a    1\n",
              "b    2\n",
              "c    3\n",
              "d    4\n",
              "e    5\n",
              "dtype: int64"
            ]
          },
          "execution_count": 2,
          "metadata": {},
          "output_type": "execute_result"
        }
      ],
      "source": [
        "serie = pd.Series([1, 2, 3, 4, 5], index = [\"a\", \"b\", \"c\", \"d\", \"e\"])\n",
        "serie"
      ]
    },
    {
      "cell_type": "markdown",
      "id": "f7588c91",
      "metadata": {
        "id": "f7588c91"
      },
      "source": [
        "De esta forma, la serie anterior tiene un índice compuesto por letras.\n",
        "\n",
        "Ambas series almacenan los mismos valores, pero la forma en la que se accede puede variar según el índice.\n",
        "\n",
        "En una serie se puede acceder a sus elementos por índice o por posición (esto último es lo que hacíamos en NumPy). A continuación se muestran algunas operaciones que se pueden realizar utilizando la serie anterior:"
      ]
    },
    {
      "cell_type": "code",
      "execution_count": null,
      "id": "0f90b9e7",
      "metadata": {
        "id": "0f90b9e7",
        "outputId": "84d85a1e-a0ca-43ec-da04-8ad43121b4e8"
      },
      "outputs": [
        {
          "name": "stdout",
          "output_type": "stream",
          "text": [
            "3\n",
            "3\n",
            "a    1\n",
            "b    7\n",
            "c    3\n",
            "d    4\n",
            "e    5\n",
            "dtype: int64\n",
            "a    11\n",
            "b    17\n",
            "c    13\n",
            "d    14\n",
            "e    15\n",
            "dtype: int64\n",
            "70\n"
          ]
        }
      ],
      "source": [
        "# Acceder al tercer elemento\n",
        "print(serie[\"c\"]) # Por índice\n",
        "print(serie[2]) # Por posición\n",
        "\n",
        "# Cambiar el valor del segundo elemento\n",
        "serie[\"b\"] = 7\n",
        "print(serie)\n",
        "\n",
        "# Sumar 10 a todos los elementos\n",
        "serie += 10\n",
        "print(serie)\n",
        "\n",
        "# Calcular la suma de los elementos\n",
        "sum_all = serie.sum()\n",
        "print(sum_all)"
      ]
    },
    {
      "cell_type": "markdown",
      "id": "e4fe3649",
      "metadata": {
        "id": "e4fe3649"
      },
      "source": [
        "#### DataFrame\n",
        "\n",
        "Un **DataFrame** en Pandas es una estructura de datos bidimensional etiquetada. Es similar a un array de 2D de NumPy, pero tiene un índice que permite el acceso a los valores por etiqueta por fila y columna.\n",
        "\n",
        "![Ejemplo de DataFrame](https://github.com/4GeeksAcademy/machine-learning-prework/blob/main/03-pandas/assets/dataframe.PNG?raw=true)\n",
        "\n",
        "Un DataFrame en Pandas tiene varias partes diferenciadas:\n",
        "\n",
        "- **Datos** (*data*): Una matriz de valores y que pueden ser de distinto tipo por columna.\n",
        "- **Índice de fila** (*row index*): Un array de etiquetas asociado a las filas.\n",
        "- **Índice de columna** (*column index*): Un array de etiquetas asociado a las columnas.\n",
        "\n",
        "Un DataFrame puede verse como un conjunto de series unidas en una estructura tabular, con un índice por fila en común y un índice de columna propio de cada serie.\n",
        "\n",
        "![Series y DataFrame](https://github.com/4GeeksAcademy/machine-learning-prework/blob/main/03-pandas/assets/series_dataframe.png?raw=true?raw=true)\n",
        "\n",
        "Un DataFrame puede ser creado utilizando la clase `DataFrame`. Por ejemplo:"
      ]
    },
    {
      "cell_type": "code",
      "execution_count": null,
      "id": "3947a09a",
      "metadata": {
        "id": "3947a09a",
        "outputId": "692e96f0-e8af-4aed-a043-ca0e6c77fd92"
      },
      "outputs": [
        {
          "data": {
            "text/html": [
              "<div>\n",
              "<style scoped>\n",
              "    .dataframe tbody tr th:only-of-type {\n",
              "        vertical-align: middle;\n",
              "    }\n",
              "\n",
              "    .dataframe tbody tr th {\n",
              "        vertical-align: top;\n",
              "    }\n",
              "\n",
              "    .dataframe thead th {\n",
              "        text-align: right;\n",
              "    }\n",
              "</style>\n",
              "<table border=\"1\" class=\"dataframe\">\n",
              "  <thead>\n",
              "    <tr style=\"text-align: right;\">\n",
              "      <th></th>\n",
              "      <th>0</th>\n",
              "      <th>1</th>\n",
              "      <th>2</th>\n",
              "    </tr>\n",
              "  </thead>\n",
              "  <tbody>\n",
              "    <tr>\n",
              "      <th>0</th>\n",
              "      <td>1</td>\n",
              "      <td>2</td>\n",
              "      <td>3</td>\n",
              "    </tr>\n",
              "    <tr>\n",
              "      <th>1</th>\n",
              "      <td>4</td>\n",
              "      <td>5</td>\n",
              "      <td>6</td>\n",
              "    </tr>\n",
              "    <tr>\n",
              "      <th>2</th>\n",
              "      <td>7</td>\n",
              "      <td>8</td>\n",
              "      <td>9</td>\n",
              "    </tr>\n",
              "  </tbody>\n",
              "</table>\n",
              "</div>"
            ],
            "text/plain": [
              "   0  1  2\n",
              "0  1  2  3\n",
              "1  4  5  6\n",
              "2  7  8  9"
            ]
          },
          "execution_count": 4,
          "metadata": {},
          "output_type": "execute_result"
        }
      ],
      "source": [
        "dataframe = pd.DataFrame([[1, 2, 3], [4, 5, 6], [7, 8, 9]])\n",
        "dataframe"
      ]
    },
    {
      "cell_type": "markdown",
      "id": "ccf0e435",
      "metadata": {
        "id": "ccf0e435"
      },
      "source": [
        "Esto creará un DataFrame con tres filas y tres columnas cada fila. Al igual que sucedía con las series, un DataFrame generará índices automáticos para filas y columnas si no se pasan como argumento en el constructor de la clase. Si quisiéramos crear un nuevo DataFrame con índices concretos para filas y columnas se programaría como sigue:"
      ]
    },
    {
      "cell_type": "code",
      "execution_count": null,
      "id": "92f62a5c",
      "metadata": {
        "id": "92f62a5c",
        "outputId": "81318bc7-9457-4fda-80dd-dd8b8dbf63c9"
      },
      "outputs": [
        {
          "data": {
            "text/html": [
              "<div>\n",
              "<style scoped>\n",
              "    .dataframe tbody tr th:only-of-type {\n",
              "        vertical-align: middle;\n",
              "    }\n",
              "\n",
              "    .dataframe tbody tr th {\n",
              "        vertical-align: top;\n",
              "    }\n",
              "\n",
              "    .dataframe thead th {\n",
              "        text-align: right;\n",
              "    }\n",
              "</style>\n",
              "<table border=\"1\" class=\"dataframe\">\n",
              "  <thead>\n",
              "    <tr style=\"text-align: right;\">\n",
              "      <th></th>\n",
              "      <th>col A</th>\n",
              "      <th>col B</th>\n",
              "      <th>col C</th>\n",
              "    </tr>\n",
              "  </thead>\n",
              "  <tbody>\n",
              "    <tr>\n",
              "      <th>a</th>\n",
              "      <td>1</td>\n",
              "      <td>4</td>\n",
              "      <td>7</td>\n",
              "    </tr>\n",
              "    <tr>\n",
              "      <th>b</th>\n",
              "      <td>2</td>\n",
              "      <td>5</td>\n",
              "      <td>8</td>\n",
              "    </tr>\n",
              "    <tr>\n",
              "      <th>c</th>\n",
              "      <td>3</td>\n",
              "      <td>6</td>\n",
              "      <td>9</td>\n",
              "    </tr>\n",
              "  </tbody>\n",
              "</table>\n",
              "</div>"
            ],
            "text/plain": [
              "   col A  col B  col C\n",
              "a      1      4      7\n",
              "b      2      5      8\n",
              "c      3      6      9"
            ]
          },
          "execution_count": 5,
          "metadata": {},
          "output_type": "execute_result"
        }
      ],
      "source": [
        "data = {\n",
        "    \"col A\": [1, 2, 3],\n",
        "    \"col B\": [4, 5, 6],\n",
        "    \"col C\": [7, 8, 9]\n",
        "}\n",
        "\n",
        "dataframe = pd.DataFrame(data, index = [\"a\", \"b\", \"c\"])\n",
        "dataframe"
      ]
    },
    {
      "cell_type": "markdown",
      "id": "758e57bd",
      "metadata": {
        "id": "758e57bd"
      },
      "source": [
        "De esta forma se proporciona un índice personalizado para las columnas (etiquetando las filas dentro de un diccionario) y para las filas (con el argumento `index` tal y como sucedía con las series).\n",
        "\n",
        "En un DataFrame se puede acceder a sus elementos por índice o por posición. A continuación se muestran algunas operaciones que se pueden realizar utilizando el DataFrame anterior:"
      ]
    },
    {
      "cell_type": "code",
      "execution_count": null,
      "id": "258c47ff",
      "metadata": {
        "id": "258c47ff",
        "outputId": "06aeb6ec-4f35-416c-cd71-90b7c57bd81d"
      },
      "outputs": [
        {
          "name": "stdout",
          "output_type": "stream",
          "text": [
            "a    1\n",
            "b    2\n",
            "c    3\n",
            "Name: col A, dtype: int64\n",
            "a    1\n",
            "b    2\n",
            "c    3\n",
            "Name: col A, dtype: int64\n",
            "a    1\n",
            "b    2\n",
            "c    3\n",
            "Name: col A, dtype: int64\n",
            "col A    1\n",
            "col B    4\n",
            "col C    7\n",
            "Name: a, dtype: int64\n",
            "col A    1\n",
            "col B    4\n",
            "col C    7\n",
            "Name: a, dtype: int64\n",
            "1\n",
            "1\n",
            "   col A  col B  col C  col D\n",
            "a      1      4      7     10\n",
            "b      2      5      8     11\n",
            "c      3      6      9     12\n",
            "   col A  col B  col C  col D\n",
            "a      1      4      7     10\n",
            "b      2      5      8     11\n",
            "c      3      6      9     12\n",
            "d     13     14     15     16\n",
            "   col A  col B  col C  col D\n",
            "a     10      4      7     10\n",
            "b     20      5      8     11\n",
            "c     30      6      9     12\n",
            "d    130     14     15     16\n",
            "col A    190\n",
            "col B     29\n",
            "col C     39\n",
            "col D     49\n",
            "dtype: int64\n"
          ]
        }
      ],
      "source": [
        "# Acceder a todos los datos de una columna\n",
        "print(dataframe[\"col A\"]) # Por índice\n",
        "print(dataframe.loc[:,\"col A\"]) # Por índice\n",
        "print(dataframe.iloc[:,0]) # Por posición\n",
        "\n",
        "# Acceder a todos los datos de una fila\n",
        "print(dataframe.loc[\"a\"]) # Por índice\n",
        "print(dataframe.iloc[0]) # Por posición\n",
        "\n",
        "# Acceder a un elemento (fila, columna) concreto\n",
        "print(dataframe.loc[\"a\", \"col A\"]) # Por índice\n",
        "print(dataframe.iloc[0, 0]) # Por posición\n",
        "\n",
        "# Crear una nueva columna\n",
        "dataframe[\"col D\"] = [10, 11, 12]\n",
        "print(dataframe)\n",
        "\n",
        "# Crear una nueva fila\n",
        "dataframe.loc[\"d\"] = [13, 14, 15, 16]\n",
        "print(dataframe)\n",
        "\n",
        "# Multiplicar por 10 los elementos de una columna\n",
        "dataframe[\"col A\"] *= 10\n",
        "print(dataframe)\n",
        "\n",
        "# Calcular la suma de todos los elementos\n",
        "sum_all = dataframe.sum()\n",
        "print(sum_all)"
      ]
    },
    {
      "cell_type": "markdown",
      "id": "1ac3bdaa",
      "metadata": {
        "id": "1ac3bdaa"
      },
      "source": [
        "### Funciones\n",
        "\n",
        "Pandas proporciona una gran cantidad de funciones predefinidas y que se pueden aplicar sobre las estructuras de datos vistas anteriormente. Algunas de las más utilizadas en el análisis de datos son:"
      ]
    },
    {
      "cell_type": "code",
      "execution_count": null,
      "id": "9a54370c",
      "metadata": {
        "id": "9a54370c",
        "outputId": "0f8c229d-4dbf-45c9-e5e5-8832b140834d"
      },
      "outputs": [
        {
          "name": "stdout",
          "output_type": "stream",
          "text": [
            "Suma de series: 0    5\n",
            "1    7\n",
            "2    9\n",
            "dtype: int64\n",
            "Suma de DataFrames:     0   1   2\n",
            "0   8  10  12\n",
            "1  14  16  18\n",
            "Media: 2.0\n",
            "Mediana: 2.0\n",
            "Número de elementos: 3\n",
            "Desviación estándar: 1.0\n",
            "Varianza: 1.0\n",
            "Máximo valor: 3\n",
            "Mínimo valor: 1\n",
            "Correlación: 1.0\n",
            "Resumen estadístico: count    3.0\n",
            "mean     2.0\n",
            "std      1.0\n",
            "min      1.0\n",
            "25%      1.5\n",
            "50%      2.0\n",
            "75%      2.5\n",
            "max      3.0\n",
            "dtype: float64\n"
          ]
        }
      ],
      "source": [
        "import pandas as pd\n",
        "\n",
        "s1 = pd.Series([1, 2, 3])\n",
        "s2 = pd.Series([4, 5, 6])\n",
        "d1 = pd.DataFrame([[1, 2, 3], [4, 5, 6]])\n",
        "d2 = pd.DataFrame([[7, 8, 9], [10, 11, 12]])\n",
        "\n",
        "# Operaciones Aritméticas\n",
        "print(\"Suma de series:\", s1.add(s2))\n",
        "print(\"Suma de DataFrames:\", d1.add(d2))\n",
        "\n",
        "# Operaciones Estadísticas\n",
        "# Se pueden aplicar de igual forma a los DataFrames\n",
        "print(\"Media:\", s1.mean())\n",
        "print(\"Mediana:\", s1.median())\n",
        "print(\"Número de elementos:\", s1.count())\n",
        "print(\"Desviación estándar:\", s1.std())\n",
        "print(\"Varianza:\", s1.var())\n",
        "print(\"Máximo valor:\", s1.max())\n",
        "print(\"Mínimo valor:\", s1.min())\n",
        "print(\"Correlación:\", s1.corr(s2))\n",
        "print(\"Resumen estadístico:\", s1.describe())"
      ]
    },
    {
      "cell_type": "markdown",
      "id": "1837dc19",
      "metadata": {
        "id": "1837dc19"
      },
      "source": [
        "#### Funciones personalizadas\n",
        "\n",
        "Además de las funciones predefinidas de Pandas, también se pueden definir y aplicar otras a las estructuras de datos. Para ello, tenemos que programar la función para que reciba un valor (o una columna o fila en el caso de un DataFrame) y devuelva otro modificado, y referenciarla con `apply`.\n",
        "\n",
        "Además, esta función permite utilizar **expresiones lambda** (*lambda expressions*) para la declaración anónima de funciones.\n",
        "\n",
        "A continuación se muestra cómo aplicar funciones a las series:"
      ]
    },
    {
      "cell_type": "code",
      "execution_count": null,
      "id": "282d22bb",
      "metadata": {
        "id": "282d22bb",
        "outputId": "c7f7c796-d50c-4a03-a36d-e68502cec762"
      },
      "outputs": [
        {
          "name": "stdout",
          "output_type": "stream",
          "text": [
            "0     1\n",
            "1     4\n",
            "2     9\n",
            "3    16\n",
            "dtype: int64\n",
            "0     1\n",
            "1     4\n",
            "2     9\n",
            "3    16\n",
            "dtype: int64\n"
          ]
        }
      ],
      "source": [
        "import pandas as pd\n",
        "s = pd.Series([1, 2, 3, 4])\n",
        "\n",
        "# Definición explícita de la función\n",
        "def squared(x):\n",
        "    return x ** 2\n",
        "s1 = s.apply(squared)\n",
        "print(s1)\n",
        "\n",
        "# Definición anónima de la función\n",
        "s2 = s.apply(lambda x: x ** 2)\n",
        "print(s2)"
      ]
    },
    {
      "cell_type": "markdown",
      "id": "40e3a3db",
      "metadata": {
        "id": "40e3a3db"
      },
      "source": [
        "A continuación se muestra cómo aplicar funciones a un DataFrame, que puede hacerse por fila, por columna o por elementos, similar a las series:"
      ]
    },
    {
      "cell_type": "code",
      "execution_count": null,
      "id": "7c96f45d",
      "metadata": {
        "id": "7c96f45d",
        "outputId": "a37bb593-b98b-475a-feea-426b1daf84ed"
      },
      "outputs": [
        {
          "name": "stdout",
          "output_type": "stream",
          "text": [
            "   A  B\n",
            "0  1  4\n",
            "1  4  5\n",
            "2  9  6\n",
            "   A   B\n",
            "0  1  16\n",
            "1  4   5\n",
            "2  9   6\n",
            "    A    B\n",
            "0   1  256\n",
            "1  16   25\n",
            "2  81   36\n"
          ]
        }
      ],
      "source": [
        "df = pd.DataFrame({\n",
        "    \"A\": [1, 2, 3],\n",
        "    \"B\": [4, 5, 6]\n",
        "})\n",
        "\n",
        "# Aplicar función a lo largo de una columna\n",
        "df[\"A\"] = df[\"A\"].apply(lambda x: x ** 2)\n",
        "print(df)\n",
        "\n",
        "# Aplicar función a lo largo de una fila\n",
        "df.loc[0] = df.loc[0].apply(lambda x: x ** 2)\n",
        "print(df)\n",
        "\n",
        "# Aplicar función a todos los elementos\n",
        "df = df.applymap(lambda x: x ** 2)\n",
        "print(df)"
      ]
    },
    {
      "cell_type": "markdown",
      "id": "3acb43c7",
      "metadata": {
        "id": "3acb43c7"
      },
      "source": [
        "`apply` es más flexible que otras funciones vectorizadas de Pandas, pero puede ser más lenta, especialmente cuando se aplica a grandes conjuntos de datos. Siempre es importante explorar las funciones incorporadas de Pandas o NumPy primero, ya que suelen ser más eficientes que las que podríamos llegar a implementar nosotros.\n",
        "\n",
        "Además, esta función puede devolver resultados de diferentes formas, dependiendo de la función aplicada y de cómo esté configurada."
      ]
    },
    {
      "cell_type": "markdown",
      "id": "a9f764b6",
      "metadata": {
        "id": "a9f764b6"
      },
      "source": [
        "## Ejercicios\n",
        "\n",
        "Haz clic en el botón \"Abrir en Colab\" que se encuentra al principio de esta lección, para poder realizar los ejercicios en Google Collab.\n",
        "\n",
        "En el siguiente enlace puedes conseguir las [soluciones a los ejercicios de pandas python](https://4geeks.com/lesson/pandas-exercises-and-solutions) que encontraras mas abajo.\n",
        "\n",
        "> 🔥 We also recommend you to complete this [interactive and self-corrected Pandas tutorial](https://4geeks.com/interactive-exercise/pandas-tutorial-and-exercises) accompanied by our AI mentor Rigobot, who will answer all your questions instantly.\n",
        "\n",
        "### Creación de series y DataFrames"
      ]
    },
    {
      "cell_type": "markdown",
      "id": "e3c20b3d",
      "metadata": {
        "id": "e3c20b3d"
      },
      "source": [
        "#### Ejercicio Pandas 01: Crea una serie a partir de una lista, de un array de NumPy y de un diccionario (★☆☆)\n",
        "\n",
        "> NOTA: Revisa la clase `pd.Series` (https://pandas.pydata.org/docs/reference/api/pandas.Series.html)"
      ]
    },
    {
      "cell_type": "code",
      "execution_count": 18,
      "id": "8a758bcf",
      "metadata": {
        "id": "8a758bcf",
        "outputId": "4432cd8c-623f-493b-e42b-d0ee192f4c40",
        "colab": {
          "base_uri": "https://localhost:8080/"
        }
      },
      "outputs": [
        {
          "output_type": "stream",
          "name": "stdout",
          "text": [
            "Serie desde lista: 0    10\n",
            "1    20\n",
            "2    30\n",
            "dtype: int64\n",
            "Serie desde array: 0    10\n",
            "1    20\n",
            "2    30\n",
            "dtype: int64\n",
            "Serie desde diccionario:  a    1\n",
            "b    2\n",
            "c    3\n",
            "dtype: int64\n"
          ]
        }
      ],
      "source": [
        "import numpy as np\n",
        "import pandas as pd\n",
        "\n",
        "lista = [10, 20, 30]\n",
        "serie_desde_lista = pd.Series(lista)\n",
        "print(\"Serie desde lista:\", serie_desde_lista)\n",
        "\n",
        "array = np.array([10, 20, 30])\n",
        "serie_desde_array = pd.Series(array)\n",
        "print(\"Serie desde array:\",serie_desde_array)\n",
        "\n",
        "diccionario = {'a': 1, 'b': 2, 'c': 3}\n",
        "serie_desde_diccionario = pd.Series(diccionario)\n",
        "\n",
        "print(\"Serie desde diccionario: \", serie_desde_diccionario)\n",
        "\n"
      ]
    },
    {
      "cell_type": "markdown",
      "id": "cb8185b8",
      "metadata": {
        "id": "cb8185b8"
      },
      "source": [
        "#### Ejercicio Pandas 02: Crea un DataFrame a partir de un array de NumPy, de un diccionario y de una lista de tuplas (★☆☆)\n",
        "\n",
        "> NOTA: Revisa la clase `pd.DataFrame` (https://pandas.pydata.org/docs/reference/api/pandas.DataFrame.html)"
      ]
    },
    {
      "cell_type": "code",
      "execution_count": 31,
      "id": "16cc6699",
      "metadata": {
        "id": "16cc6699",
        "outputId": "69cbbc0b-3ced-42c1-f09e-d33ff350492e",
        "colab": {
          "base_uri": "https://localhost:8080/"
        }
      },
      "outputs": [
        {
          "output_type": "stream",
          "name": "stdout",
          "text": [
            "DataFrame desde array:    a  b\n",
            "0  1  2\n",
            "1  3  4\n",
            "2  5  6\n",
            "DataFrame desde diccionario:    Nombre  Edad\n",
            "0   Pedro    25\n",
            "1   issac    30\n",
            "2  Carlos    28\n",
            "DataFrame desde lista de tuplas:       País Capital\n",
            "0   España  Madrid\n",
            "1  Francia   París\n",
            "2   Italia    Roma\n"
          ]
        }
      ],
      "source": [
        "array = np.array([[1, 2], [3, 4], [5, 6]])\n",
        "df_desde_array = pd.DataFrame(array, columns=[\"a\", \"b\"])\n",
        "print(\"DataFrame desde array:\",df_desde_array)\n",
        "\n",
        "diccionario = {\"Nombre\": [\"Pedro\", \"issac\", \"Carlos\"], \"Edad\": [25, 30, 28]}\n",
        "df_desde_diccionario = pd.DataFrame(diccionario)\n",
        "print(\"DataFrame desde diccionario:\", df_desde_diccionario)\n",
        "\n",
        "lista_tuplas = [(\"España\", \"Madrid\"), (\"Francia\", \"París\"), (\"Italia\", \"Roma\")]\n",
        "df_desde_tuplas = pd.DataFrame(lista_tuplas, columns=[\"País\", \"Capital\"])\n",
        "print(\"DataFrame desde lista de tuplas:\", df_desde_tuplas)"
      ]
    },
    {
      "cell_type": "markdown",
      "id": "96424fb7",
      "metadata": {
        "id": "96424fb7"
      },
      "source": [
        "#### Ejercicio Pandas 03: Crea 2 series y utilízalas para construir un DataFrame (★☆☆)\n",
        "\n",
        "> NOTA: Revisa las funciones `pd.concat` (https://pandas.pydata.org/docs/reference/api/pandas.concat.html) y `pd.Series.to_frame` (https://pandas.pydata.org/docs/reference/api/pandas.Series.to_frame.html)"
      ]
    },
    {
      "cell_type": "code",
      "execution_count": 39,
      "id": "934e60d7",
      "metadata": {
        "id": "934e60d7",
        "outputId": "44c4043c-e29c-4dea-9600-963b1d0962e5",
        "colab": {
          "base_uri": "https://localhost:8080/"
        }
      },
      "outputs": [
        {
          "output_type": "stream",
          "name": "stdout",
          "text": [
            "  nombres_1 nombres_2\n",
            "0     pedro     maria\n",
            "1     issac     pedro\n",
            "2    Carlos     jesus\n"
          ]
        }
      ],
      "source": [
        "nombres_1 = pd.Series([\"pedro\", \"issac\", \"Carlos\"])\n",
        "nombres_2 = pd.Series([\"maria\", \"pedro\", \"jesus\"])\n",
        "\n",
        "df = pd.concat([nombres_1, nombres_2], axis=1)\n",
        "df.columns = [\"nombres_1\", \"nombres_2\"]\n",
        "\n",
        "print(df)"
      ]
    },
    {
      "cell_type": "markdown",
      "id": "8caafb43",
      "metadata": {
        "id": "8caafb43"
      },
      "source": [
        "### Filtrado y actualización"
      ]
    },
    {
      "cell_type": "markdown",
      "id": "1499a0a6",
      "metadata": {
        "id": "1499a0a6"
      },
      "source": [
        "#### Ejercicio Pandas 04: Utiliza las series creadas en el ejercicio anterior y selecciona las posiciones de los elementos de la primera serie que están en la segunda (★★☆)\n",
        "\n",
        "> NOTA: Revisa la función `pd.Series.isin` (https://pandas.pydata.org/docs/reference/api/pandas.Series.isin.html)"
      ]
    },
    {
      "cell_type": "code",
      "execution_count": 40,
      "id": "5683a253",
      "metadata": {
        "id": "5683a253",
        "outputId": "845b6194-d433-4f3a-d1cd-92e7c7e5f212",
        "colab": {
          "base_uri": "https://localhost:8080/"
        }
      },
      "outputs": [
        {
          "output_type": "stream",
          "name": "stdout",
          "text": [
            "Índices de elementos de serie1 que están en serie2:  Index([0], dtype='int64')\n"
          ]
        }
      ],
      "source": [
        "nombres_1 = pd.Series([\"pedro\", \"issac\", \"Carlos\"])\n",
        "nombres_2 = pd.Series([\"maria\", \"pedro\", \"jesus\"])\n",
        "\n",
        "coincidencias = nombres_1.isin(nombres_2)\n",
        "indices = coincidencias[coincidencias].index\n",
        "\n",
        "print(\"Índices de elementos de serie1 que están en serie2: \",indices)"
      ]
    },
    {
      "cell_type": "markdown",
      "id": "4303b614",
      "metadata": {
        "id": "4303b614"
      },
      "source": [
        "#### Ejercicio Pandas 05: Utiliza las series creadas en el ejercicio 03 y lista los elementos no comunes entre ambas (★★☆)"
      ]
    },
    {
      "cell_type": "code",
      "execution_count": null,
      "id": "477e01f4",
      "metadata": {
        "id": "477e01f4"
      },
      "outputs": [],
      "source": [
        "nombres_1 = pd.Series([\"pedro\", \"issac\", \"Carlos\"])\n",
        "nombres_2 = pd.Series([\"maria\", \"pedro\", \"jesus\"])\n",
        "\n"
      ]
    },
    {
      "cell_type": "markdown",
      "id": "4e7ad59c",
      "metadata": {
        "id": "4e7ad59c"
      },
      "source": [
        "#### Ejercicio 06: Crea un DataFrame de números aleatorios con 5 columnas y 10 filas y ordena una de sus columnas de menor a mayor (★★☆)\n",
        "\n",
        "> NOTA: Revisa la función `pd.DataFrame.sort_values` (https://pandas.pydata.org/docs/reference/api/pandas.DataFrame.sort_values.html)"
      ]
    },
    {
      "cell_type": "code",
      "execution_count": 47,
      "id": "82de9a71",
      "metadata": {
        "id": "82de9a71",
        "outputId": "d931a6d2-bafd-4d37-f2a4-09d298e810a6",
        "colab": {
          "base_uri": "https://localhost:8080/"
        }
      },
      "outputs": [
        {
          "output_type": "stream",
          "name": "stdout",
          "text": [
            "          a         b         c         d         e\n",
            "0  0.523028  0.128614  0.190460  0.588831  0.650446\n",
            "1  0.684813  0.840167  0.500325  0.053654  0.064124\n",
            "2  0.661539  0.166051  0.912929  0.605021  0.144271\n",
            "3  0.350651  0.412527  0.365825  0.855450  0.003336\n",
            "4  0.020708  0.850203  0.344064  0.866698  0.931168\n",
            "5  0.655861  0.326184  0.533409  0.979114  0.202511\n",
            "6  0.398547  0.732573  0.866151  0.395438  0.130588\n",
            "7  0.710410  0.396955  0.532311  0.232595  0.308327\n",
            "8  0.169378  0.661654  0.453564  0.728240  0.002091\n",
            "9  0.640171  0.350513  0.565284  0.064950  0.659466\n",
            "          a         b         c         d         e\n",
            "0  0.523028  0.128614  0.190460  0.588831  0.650446\n",
            "4  0.020708  0.850203  0.344064  0.866698  0.931168\n",
            "3  0.350651  0.412527  0.365825  0.855450  0.003336\n",
            "8  0.169378  0.661654  0.453564  0.728240  0.002091\n",
            "1  0.684813  0.840167  0.500325  0.053654  0.064124\n",
            "7  0.710410  0.396955  0.532311  0.232595  0.308327\n",
            "5  0.655861  0.326184  0.533409  0.979114  0.202511\n",
            "9  0.640171  0.350513  0.565284  0.064950  0.659466\n",
            "6  0.398547  0.732573  0.866151  0.395438  0.130588\n",
            "2  0.661539  0.166051  0.912929  0.605021  0.144271\n"
          ]
        }
      ],
      "source": [
        "df = pd.DataFrame(np.random.rand(10, 5),columns=[\"a\", \"b\", \"c\", \"d\", \"e\"])\n",
        "print(df)\n",
        "ordenado = pd.DataFrame.sort_values(df, by=\"c\")\n",
        "print (ordenado)\n"
      ]
    },
    {
      "cell_type": "markdown",
      "id": "09f77d6a",
      "metadata": {
        "id": "09f77d6a"
      },
      "source": [
        "#### Ejercicio Pandas 07: Modifica el nombre de las 5 columnas del DataFrame anterior por el siguiente formato: `N_column` donde `N` es el número de la columna (★★☆)\n",
        "\n",
        "> NOTA: Revisa la función `pd.DataFrame.sort_values` (https://pandas.pydata.org/docs/reference/api/pandas.DataFrame.sort_values.html)"
      ]
    },
    {
      "cell_type": "code",
      "execution_count": 48,
      "id": "6c65fe4f",
      "metadata": {
        "id": "6c65fe4f",
        "outputId": "a3f3cb86-0c15-4202-b690-fd83f734d111",
        "colab": {
          "base_uri": "https://localhost:8080/"
        }
      },
      "outputs": [
        {
          "output_type": "stream",
          "name": "stdout",
          "text": [
            "   1_column  2_column  3_column  4_column  5_column\n",
            "0  0.321095  0.884603  0.084941  0.716891  0.844197\n",
            "1  0.164234  0.175207  0.919545  0.829272  0.038328\n",
            "2  0.060367  0.394800  0.603725  0.244375  0.992561\n",
            "3  0.002260  0.936673  0.241154  0.463096  0.462743\n",
            "4  0.910359  0.581359  0.088133  0.173152  0.109408\n",
            "5  0.996950  0.558085  0.627118  0.444490  0.115300\n",
            "6  0.341174  0.240747  0.440333  0.992292  0.937809\n",
            "7  0.592020  0.419448  0.741801  0.169796  0.245691\n",
            "8  0.446094  0.588243  0.765028  0.710793  0.365869\n",
            "9  0.312229  0.534809  0.079542  0.258732  0.970793\n"
          ]
        }
      ],
      "source": [
        "df = pd.DataFrame(np.random.rand(10, 5), columns=[\"1_column\", \"2_column\", \"3_column\", \"4_column\", \"5_column\"])\n",
        "\n",
        "print (df)\n"
      ]
    },
    {
      "cell_type": "markdown",
      "id": "c0e940f8",
      "metadata": {
        "id": "c0e940f8"
      },
      "source": [
        "#### Ejercicio Pandas 08: Modifica el índice de las filas del DataFrame del ejercicio 06 (★★☆)\n",
        "\n",
        "> NOTA: Revisa la función `pd.DataFrame.sort_values` (https://pandas.pydata.org/docs/reference/api/pandas.DataFrame.sort_values.html)"
      ]
    },
    {
      "cell_type": "code",
      "execution_count": 56,
      "id": "820dc7a5",
      "metadata": {
        "id": "820dc7a5",
        "outputId": "916b244b-9ddd-45da-b485-662869275bae",
        "colab": {
          "base_uri": "https://localhost:8080/"
        }
      },
      "outputs": [
        {
          "output_type": "stream",
          "name": "stdout",
          "text": [
            "          a         b         c         d         e\n",
            "A  0.177879  0.916737  0.875369  0.737440  0.152424\n",
            "B  0.314705  0.079763  0.144968  0.623569  0.163201\n",
            "C  0.786089  0.933100  0.205606  0.195991  0.145657\n",
            "D  0.994003  0.885414  0.159551  0.793994  0.953414\n",
            "E  0.490899  0.040743  0.124683  0.517592  0.656708\n",
            "F  0.746807  0.351335  0.698373  0.880561  0.434679\n",
            "G  0.516889  0.971292  0.766983  0.840917  0.830250\n",
            "H  0.052018  0.248163  0.581211  0.534499  0.350255\n",
            "I  0.646035  0.005666  0.642556  0.035662  0.176249\n",
            "J  0.215983  0.119064  0.232885  0.147772  0.161567\n"
          ]
        }
      ],
      "source": [
        "df = pd.DataFrame(np.random.rand(10, 5), columns=[\"a\", \"b\", \"c\", \"d\", \"e\"])\n",
        "df.index = list(\"ABCDEFGHIJ\")\n",
        "print (df)\n"
      ]
    }
  ],
  "metadata": {
    "kernelspec": {
      "display_name": "Python 3",
      "language": "python",
      "name": "python3"
    },
    "language_info": {
      "codemirror_mode": {
        "name": "ipython",
        "version": 3
      },
      "file_extension": ".py",
      "mimetype": "text/x-python",
      "name": "python",
      "nbconvert_exporter": "python",
      "pygments_lexer": "ipython3",
      "version": "3.11.4"
    },
    "colab": {
      "provenance": []
    }
  },
  "nbformat": 4,
  "nbformat_minor": 5
}